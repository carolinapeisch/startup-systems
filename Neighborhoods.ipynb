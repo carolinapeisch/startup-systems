{
 "cells": [
  {
   "cell_type": "code",
   "execution_count": 6,
   "metadata": {
    "collapsed": true
   },
   "outputs": [],
   "source": [
    "from bs4 import BeautifulSoup\n",
    "import requests"
   ]
  },
  {
   "cell_type": "code",
   "execution_count": 7,
   "metadata": {
    "collapsed": true
   },
   "outputs": [],
   "source": [
    "r = requests.get('https://en.wikipedia.org/wiki/Neighborhoods_in_New_York_City#Community_areas', auth=('user', 'pass')).text"
   ]
  },
  {
   "cell_type": "code",
   "execution_count": 3,
   "metadata": {
    "collapsed": false
   },
   "outputs": [
    {
     "data": {
      "text/plain": [
       "<sqlite3.Cursor at 0x10660ed50>"
      ]
     },
     "execution_count": 3,
     "metadata": {},
     "output_type": "execute_result"
    }
   ],
   "source": [
    "import sqlite3\n",
    "conn = sqlite3.connect('neighborhoods.db')\n",
    "c = conn.cursor()\n",
    "\n",
    "#c.execute('''CREATE TABLE neighborhoods\n",
    "#             (id int, neighborhood string)''')\n",
    "# Insert a row of data\n",
    "#c.execute(\"INSERT INTO neighborhoods VALUES ('1', 'Melrose')\")\n",
    "\n",
    "# Save (commit) the changes\n",
    "#conn.commit()\n",
    "c.execute('DELETE FROM neighborhoods;')\n",
    "#c.fetchone()\n",
    "#c.close()"
   ]
  },
  {
   "cell_type": "code",
   "execution_count": 4,
   "metadata": {
    "collapsed": false
   },
   "outputs": [],
   "source": [
    "c.execute('SELECT * FROM neighborhoods;')\n",
    "c.fetchone()"
   ]
  },
  {
   "cell_type": "code",
   "execution_count": 15,
   "metadata": {
    "collapsed": false
   },
   "outputs": [],
   "source": [
    "soup = BeautifulSoup(r, 'html.parser')\n",
    "table = soup.find('table', attrs={'class':'wikitable'})\n",
    "rows = table.find_all('tr')\n",
    "counter = 1\n",
    "for row in rows[1:]:\n",
    "    col = row.find_all('td')[4].text.strip().split(', ')\n",
    "    for j in col:\n",
    "        #print(j)\n",
    "        c.execute(\"INSERT INTO neighborhoods VALUES ('\" + str(counter) + \"', '\" + j +\"')\")\n",
    "        conn.commit()\n",
    "        counter += 1"
   ]
  },
  {
   "cell_type": "code",
   "execution_count": 16,
   "metadata": {
    "collapsed": false
   },
   "outputs": [
    {
     "data": {
      "text/plain": [
       "(1, 'Melrose')"
      ]
     },
     "execution_count": 16,
     "metadata": {},
     "output_type": "execute_result"
    }
   ],
   "source": [
    "c.execute('SELECT * FROM neighborhoods;')\n",
    "c.fetchone()"
   ]
  },
  {
   "cell_type": "code",
   "execution_count": null,
   "metadata": {
    "collapsed": true
   },
   "outputs": [],
   "source": []
  }
 ],
 "metadata": {
  "anaconda-cloud": {},
  "kernelspec": {
   "display_name": "Python [Root]",
   "language": "python",
   "name": "Python [Root]"
  },
  "language_info": {
   "codemirror_mode": {
    "name": "ipython",
    "version": 3
   },
   "file_extension": ".py",
   "mimetype": "text/x-python",
   "name": "python",
   "nbconvert_exporter": "python",
   "pygments_lexer": "ipython3",
   "version": "3.5.2"
  }
 },
 "nbformat": 4,
 "nbformat_minor": 0
}
